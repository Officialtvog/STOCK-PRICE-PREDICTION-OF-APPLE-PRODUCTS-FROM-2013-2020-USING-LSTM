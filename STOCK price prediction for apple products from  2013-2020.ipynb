{
 "cells": [
  {
   "cell_type": "markdown",
   "metadata": {},
   "source": [
    "   ##   CLOSING STOCK PRICE PREDICTION OF THE CO-OPERATION (APPLE INC) \n",
    "   \n",
    "   ## USING ARTIFICAL NEURAL NETWORK\n",
    "   \n",
    "   \n",
    "\n",
    "### AM olanipekun temitope samson (Data science maniac)\n",
    "### So i am going to be doing a prediction on the closing stock price of apple inc from the year 2013 - 2020,using\n",
    "\n",
    "### the past 70 days of stock price.\n",
    "\n",
    "### To do this i will be using the artificial recurrent neural network called long short term memory(LSTM)\n",
    "\n",
    "### as the workflow proceeds i will be letting you see basics of understanding the codes with proper explanation\n",
    "### in any litttle way i can.."
   ]
  },
  {
   "cell_type": "code",
   "execution_count": null,
   "metadata": {},
   "outputs": [],
   "source": []
  },
  {
   "cell_type": "code",
   "execution_count": null,
   "metadata": {},
   "outputs": [],
   "source": []
  },
  {
   "cell_type": "code",
   "execution_count": 30,
   "metadata": {},
   "outputs": [],
   "source": [
    "import math\n",
    "import pandas as pd\n",
    "import numpy as np\n",
    "import matplotlib.pyplot as plt\n",
    "import pandas_datareader as web\n",
    "from sklearn.preprocessing import MinMaxScaler\n",
    "from keras.models import Sequential\n",
    "from keras.layers import Dense,LSTM\n",
    "plt.style.use('fivethirtyeight')"
   ]
  },
  {
   "cell_type": "code",
   "execution_count": 35,
   "metadata": {},
   "outputs": [
    {
     "data": {
      "text/html": [
       "<div>\n",
       "<style scoped>\n",
       "    .dataframe tbody tr th:only-of-type {\n",
       "        vertical-align: middle;\n",
       "    }\n",
       "\n",
       "    .dataframe tbody tr th {\n",
       "        vertical-align: top;\n",
       "    }\n",
       "\n",
       "    .dataframe thead th {\n",
       "        text-align: right;\n",
       "    }\n",
       "</style>\n",
       "<table border=\"1\" class=\"dataframe\">\n",
       "  <thead>\n",
       "    <tr style=\"text-align: right;\">\n",
       "      <th></th>\n",
       "      <th>High</th>\n",
       "      <th>Low</th>\n",
       "      <th>Open</th>\n",
       "      <th>Close</th>\n",
       "      <th>Volume</th>\n",
       "      <th>Adj Close</th>\n",
       "    </tr>\n",
       "    <tr>\n",
       "      <th>Date</th>\n",
       "      <th></th>\n",
       "      <th></th>\n",
       "      <th></th>\n",
       "      <th></th>\n",
       "      <th></th>\n",
       "      <th></th>\n",
       "    </tr>\n",
       "  </thead>\n",
       "  <tbody>\n",
       "    <tr>\n",
       "      <th>2013-01-02</th>\n",
       "      <td>19.821428</td>\n",
       "      <td>19.343929</td>\n",
       "      <td>19.779285</td>\n",
       "      <td>19.608213</td>\n",
       "      <td>560518000.0</td>\n",
       "      <td>17.094694</td>\n",
       "    </tr>\n",
       "    <tr>\n",
       "      <th>2013-01-03</th>\n",
       "      <td>19.631071</td>\n",
       "      <td>19.321428</td>\n",
       "      <td>19.567142</td>\n",
       "      <td>19.360714</td>\n",
       "      <td>352965200.0</td>\n",
       "      <td>16.878920</td>\n",
       "    </tr>\n",
       "    <tr>\n",
       "      <th>2013-01-04</th>\n",
       "      <td>19.236786</td>\n",
       "      <td>18.779642</td>\n",
       "      <td>19.177500</td>\n",
       "      <td>18.821428</td>\n",
       "      <td>594333600.0</td>\n",
       "      <td>16.408764</td>\n",
       "    </tr>\n",
       "    <tr>\n",
       "      <th>2013-01-07</th>\n",
       "      <td>18.903572</td>\n",
       "      <td>18.400000</td>\n",
       "      <td>18.642857</td>\n",
       "      <td>18.710714</td>\n",
       "      <td>484156400.0</td>\n",
       "      <td>16.312239</td>\n",
       "    </tr>\n",
       "    <tr>\n",
       "      <th>2013-01-08</th>\n",
       "      <td>18.996071</td>\n",
       "      <td>18.616072</td>\n",
       "      <td>18.900356</td>\n",
       "      <td>18.761072</td>\n",
       "      <td>458707200.0</td>\n",
       "      <td>16.356150</td>\n",
       "    </tr>\n",
       "    <tr>\n",
       "      <th>...</th>\n",
       "      <td>...</td>\n",
       "      <td>...</td>\n",
       "      <td>...</td>\n",
       "      <td>...</td>\n",
       "      <td>...</td>\n",
       "      <td>...</td>\n",
       "    </tr>\n",
       "    <tr>\n",
       "      <th>2020-09-04</th>\n",
       "      <td>123.699997</td>\n",
       "      <td>110.889999</td>\n",
       "      <td>120.070000</td>\n",
       "      <td>120.959999</td>\n",
       "      <td>332607200.0</td>\n",
       "      <td>120.959999</td>\n",
       "    </tr>\n",
       "    <tr>\n",
       "      <th>2020-09-08</th>\n",
       "      <td>118.989998</td>\n",
       "      <td>112.680000</td>\n",
       "      <td>113.949997</td>\n",
       "      <td>112.820000</td>\n",
       "      <td>231366600.0</td>\n",
       "      <td>112.820000</td>\n",
       "    </tr>\n",
       "    <tr>\n",
       "      <th>2020-09-09</th>\n",
       "      <td>119.139999</td>\n",
       "      <td>115.260002</td>\n",
       "      <td>117.260002</td>\n",
       "      <td>117.320000</td>\n",
       "      <td>176940500.0</td>\n",
       "      <td>117.320000</td>\n",
       "    </tr>\n",
       "    <tr>\n",
       "      <th>2020-09-10</th>\n",
       "      <td>120.500000</td>\n",
       "      <td>112.500000</td>\n",
       "      <td>120.360001</td>\n",
       "      <td>113.489998</td>\n",
       "      <td>182274400.0</td>\n",
       "      <td>113.489998</td>\n",
       "    </tr>\n",
       "    <tr>\n",
       "      <th>2020-09-11</th>\n",
       "      <td>115.230003</td>\n",
       "      <td>110.000000</td>\n",
       "      <td>114.570000</td>\n",
       "      <td>112.000000</td>\n",
       "      <td>180860300.0</td>\n",
       "      <td>112.000000</td>\n",
       "    </tr>\n",
       "  </tbody>\n",
       "</table>\n",
       "<p>1938 rows × 6 columns</p>\n",
       "</div>"
      ],
      "text/plain": [
       "                  High         Low        Open       Close       Volume  \\\n",
       "Date                                                                      \n",
       "2013-01-02   19.821428   19.343929   19.779285   19.608213  560518000.0   \n",
       "2013-01-03   19.631071   19.321428   19.567142   19.360714  352965200.0   \n",
       "2013-01-04   19.236786   18.779642   19.177500   18.821428  594333600.0   \n",
       "2013-01-07   18.903572   18.400000   18.642857   18.710714  484156400.0   \n",
       "2013-01-08   18.996071   18.616072   18.900356   18.761072  458707200.0   \n",
       "...                ...         ...         ...         ...          ...   \n",
       "2020-09-04  123.699997  110.889999  120.070000  120.959999  332607200.0   \n",
       "2020-09-08  118.989998  112.680000  113.949997  112.820000  231366600.0   \n",
       "2020-09-09  119.139999  115.260002  117.260002  117.320000  176940500.0   \n",
       "2020-09-10  120.500000  112.500000  120.360001  113.489998  182274400.0   \n",
       "2020-09-11  115.230003  110.000000  114.570000  112.000000  180860300.0   \n",
       "\n",
       "             Adj Close  \n",
       "Date                    \n",
       "2013-01-02   17.094694  \n",
       "2013-01-03   16.878920  \n",
       "2013-01-04   16.408764  \n",
       "2013-01-07   16.312239  \n",
       "2013-01-08   16.356150  \n",
       "...                ...  \n",
       "2020-09-04  120.959999  \n",
       "2020-09-08  112.820000  \n",
       "2020-09-09  117.320000  \n",
       "2020-09-10  113.489998  \n",
       "2020-09-11  112.000000  \n",
       "\n",
       "[1938 rows x 6 columns]"
      ]
     },
     "execution_count": 35,
     "metadata": {},
     "output_type": "execute_result"
    }
   ],
   "source": [
    "#get the stock quote\n",
    "df = web.DataReader('AAPL', data_source = 'yahoo', start = '2013-01-01', end = '2020-09-11')\n",
    "df "
   ]
  },
  {
   "cell_type": "markdown",
   "metadata": {},
   "source": [
    "As you can see from above,seems the stock market was closed for a day,because the the day we put for start didnt \n",
    "\n",
    "pop up,it was a day later the stock came up,so thats why its staring from the 2nd of Jan 2013 as shown in the \n",
    "\n",
    "output cell..."
   ]
  },
  {
   "cell_type": "code",
   "execution_count": 36,
   "metadata": {},
   "outputs": [
    {
     "data": {
      "text/plain": [
       "(1938, 6)"
      ]
     },
     "execution_count": 36,
     "metadata": {},
     "output_type": "execute_result"
    }
   ],
   "source": [
    "df.shape"
   ]
  },
  {
   "cell_type": "code",
   "execution_count": 57,
   "metadata": {},
   "outputs": [
    {
     "data": {
      "text/plain": [
       "High         0\n",
       "Low          0\n",
       "Open         0\n",
       "Close        0\n",
       "Volume       0\n",
       "Adj Close    0\n",
       "dtype: int64"
      ]
     },
     "execution_count": 57,
     "metadata": {},
     "output_type": "execute_result"
    }
   ],
   "source": [
    "df.isnull().sum()"
   ]
  },
  {
   "cell_type": "markdown",
   "metadata": {},
   "source": [
    "so we can see see that our dataset which we got from the web is acually clean..\n",
    "\n",
    "we can then proceed to visualization (we just want to get to see some things in our DATA)"
   ]
  },
  {
   "cell_type": "markdown",
   "metadata": {},
   "source": [
    "We would love to do a visualization for the closing price history and give just an obdservational thoughts as \n",
    "\n",
    "regards what we can see observe from the visualizations...."
   ]
  },
  {
   "cell_type": "code",
   "execution_count": 37,
   "metadata": {},
   "outputs": [
    {
     "data": {
      "image/png": "[encoded data removed]",
      "text/plain": [
       "<Figure size 1152x576 with 1 Axes>"
      ]
     },
     "metadata": {},
     "output_type": "display_data"
    }
   ],
   "source": [
    "#visualizing the closing price history\n",
    "plt.figure(figsize=(16,8))\n",
    "plt.title('close price history')\n",
    "plt.plot(df['Close'])\n",
    "plt.xlabel('Date', fontsize = 18)\n",
    "plt.ylabel('Close Price USD ($)', fontsize = 18)\n",
    "plt.show()"
   ]
  },
  {
   "cell_type": "markdown",
   "metadata": {},
   "source": [
    "seems like apple stock price has being increasing all ovwr the years,really looks like a good product to buy \n",
    "\n",
    "though..well this is just am observation m seeing right now though...its not a fianacial advice though..\n",
    "\n",
    "well from the above diagram it also shows that if you had bought an apple product around 2013-2014 for 20-30usd\n",
    "\n",
    "by  2019-2020.  you would have  gotten enough of profit..\n",
    "\n",
    "take note its based on observation thats being seen presently"
   ]
  },
  {
   "cell_type": "code",
   "execution_count": null,
   "metadata": {},
   "outputs": [],
   "source": []
  },
  {
   "cell_type": "markdown",
   "metadata": {},
   "source": [
    "The next step is to create a datatframe with the CLOSE column alone and also get the number of rows to train the\n",
    "\n",
    "model on"
   ]
  },
  {
   "cell_type": "code",
   "execution_count": 38,
   "metadata": {},
   "outputs": [
    {
     "data": {
      "text/plain": [
       "1551"
      ]
     },
     "execution_count": 38,
     "metadata": {},
     "output_type": "execute_result"
    }
   ],
   "source": [
    "#create a dataframe wiht the close column\n",
    "data = df.filter(['Close'])\n",
    "#covert the dataframe to a numpy array\n",
    "dataset = data.values\n",
    "#get the number of rows to train the model on\n",
    "training_data_len = math.ceil(len(dataset) * .8)\n",
    "training_data_len"
   ]
  },
  {
   "cell_type": "markdown",
   "metadata": {},
   "source": [
    "you would have wondered why we are using (.8) and (math.ceil) that shows that we taking 80% of 1938  the training\n",
    "\n",
    "set and math.ceil is used for rounding it off,and thats hwo we got  1551"
   ]
  },
  {
   "cell_type": "markdown",
   "metadata": {},
   "source": [
    "## Scalling the data"
   ]
  },
  {
   "cell_type": "code",
   "execution_count": 39,
   "metadata": {},
   "outputs": [
    {
     "data": {
      "text/plain": [
       "array([[0.04708139],\n",
       "       [0.04502289],\n",
       "       [0.04053753],\n",
       "       ...,\n",
       "       [0.85977174],\n",
       "       [0.82791678],\n",
       "       [0.81552414]])"
      ]
     },
     "execution_count": 39,
     "metadata": {},
     "output_type": "execute_result"
    }
   ],
   "source": [
    "\n",
    "scaler = MinMaxScaler(feature_range = (0,1))\n",
    "scaled_data = scaler.fit_transform(dataset)\n",
    "scaled_data\n",
    "#scalaer .fit transform computes the min and max value to be used for scaling and tranfromed the data based \n",
    "#on the values (0,1)"
   ]
  },
  {
   "cell_type": "markdown",
   "metadata": {},
   "source": [
    "You can see the values we got after we ran the cell are between zero and one(0,1)"
   ]
  },
  {
   "cell_type": "markdown",
   "metadata": {},
   "source": [
    "SPLITING THE DATASET INTO x_train and y_train\n",
    "\n",
    "well before we do that,we create the training dataset"
   ]
  },
  {
   "cell_type": "code",
   "execution_count": 40,
   "metadata": {},
   "outputs": [
    {
     "name": "stdout",
     "output_type": "stream",
     "text": [
      "[array([0.04708139, 0.04502289, 0.04053753, 0.0396167 , 0.04003553,\n",
      "       0.0375968 , 0.03950084, 0.03854735, 0.03303719, 0.02833499,\n",
      "       0.03432634, 0.03331344, 0.03251736, 0.03393425, 0.03667894,\n",
      "       0.01781369, 0.0146591 , 0.01761468, 0.02012172, 0.01969399,\n",
      "       0.01929595, 0.01874047, 0.01538388, 0.019994  , 0.01984845,\n",
      "       0.02307731, 0.02508533, 0.0265557 , 0.02298226, 0.02271789,\n",
      "       0.02259313, 0.02068314, 0.02063265, 0.01732358, 0.01649483,\n",
      "       0.01790578, 0.01552646, 0.01735923, 0.01605223, 0.01511061,\n",
      "       0.01186392, 0.00876872, 0.01206293, 0.01043514, 0.01189659,\n",
      "       0.01223522, 0.01406204, 0.01125795, 0.01123418, 0.01246691,\n",
      "       0.01578192, 0.01936427, 0.0189989 , 0.01828302, 0.0184761 ,\n",
      "       0.02120297, 0.02169903, 0.02097424, 0.01828302, 0.01548488])]\n",
      "[0.011400530420072968]\n",
      "\n"
     ]
    }
   ],
   "source": [
    "#create the trainning dataset\n",
    "#create the scaled training dataset\n",
    "train_data = scaled_data[0:training_data_len,:]\n",
    "#spliting the dataset into x_train and y_train\n",
    "x_train = []\n",
    "y_train = []\n",
    "for i in range(60,len(train_data)):\n",
    "    x_train.append(train_data[i-60:i,0])\n",
    "    y_train.append(train_data[i,0])\n",
    "    if i<=60:\n",
    "        print(x_train)\n",
    "        print(y_train)\n",
    "        print()"
   ]
  },
  {
   "cell_type": "markdown",
   "metadata": {},
   "source": [
    "From the above we can see some observations as i would call it...\n",
    "\n",
    "that the y_train dataset contains the 61st value that we want our  model to predict\n",
    "\n",
    "and the x_train dataset contains the past 60 values"
   ]
  },
  {
   "cell_type": "code",
   "execution_count": null,
   "metadata": {},
   "outputs": [],
   "source": []
  },
  {
   "cell_type": "markdown",
   "metadata": {},
   "source": [
    "next we would love to convert our x_train and y_train to numpy arrays"
   ]
  },
  {
   "cell_type": "code",
   "execution_count": 41,
   "metadata": {},
   "outputs": [],
   "source": [
    "## coversion of  our x_train and y_train to numpy arrays\n",
    "\n",
    "x_train,y_train = np.array(x_train),np.array(y_train)"
   ]
  },
  {
   "cell_type": "markdown",
   "metadata": {},
   "source": [
    "## lets reshape the data\n",
    "\n",
    "we are reshaping the data because LSTM network requires the input to be 3 dimeansional in the form of\n",
    "\n",
    "number of samples,number of features,number of time steps and right now our x_train dataset is 2 dimeansional "
   ]
  },
  {
   "cell_type": "code",
   "execution_count": 42,
   "metadata": {},
   "outputs": [
    {
     "data": {
      "text/plain": [
       "(1491, 60, 1)"
      ]
     },
     "execution_count": 42,
     "metadata": {},
     "output_type": "execute_result"
    }
   ],
   "source": [
    "x_train = np.reshape(x_train, (x_train.shape[0],x_train.shape[1],1))\n",
    "x_train.shape"
   ]
  },
  {
   "cell_type": "markdown",
   "metadata": {},
   "source": [
    "its now 3 dimensional,yipee!!!!"
   ]
  },
  {
   "cell_type": "code",
   "execution_count": null,
   "metadata": {},
   "outputs": [],
   "source": []
  },
  {
   "cell_type": "markdown",
   "metadata": {},
   "source": [
    "## Building the LSTM model"
   ]
  },
  {
   "cell_type": "code",
   "execution_count": 43,
   "metadata": {},
   "outputs": [],
   "source": [
    "#build the LSTM model\n",
    "model = Sequential()\n",
    "model.add(LSTM(50,return_sequences = True,input_shape = (x_train.shape[1],1)))\n",
    "model.add(LSTM(50,return_sequences = False))\n",
    "model.add(Dense(25))\n",
    "model.add(Dense(1))"
   ]
  },
  {
   "cell_type": "markdown",
   "metadata": {},
   "source": [
    "## Compilation of the model"
   ]
  },
  {
   "cell_type": "code",
   "execution_count": 44,
   "metadata": {},
   "outputs": [],
   "source": [
    "\n",
    "\n",
    "model.compile(optimizer = 'adam', loss = 'mean_squared_error')"
   ]
  },
  {
   "cell_type": "markdown",
   "metadata": {},
   "source": [
    "Take note:\n",
    "    \n",
    "an optimizer is used to improve upon the loss function and the loss function is used to measure how well the model\n",
    "\n",
    "did on trainning"
   ]
  },
  {
   "cell_type": "markdown",
   "metadata": {},
   "source": [
    "## MODEL TRAINING"
   ]
  },
  {
   "cell_type": "code",
   "execution_count": null,
   "metadata": {},
   "outputs": [],
   "source": [
    "So if you would let me,\n",
    "lets train the model!!!"
   ]
  },
  {
   "cell_type": "code",
   "execution_count": 45,
   "metadata": {},
   "outputs": [
    {
     "name": "stdout",
     "output_type": "stream",
     "text": [
      "1491/1491 [==============================] - 68s 45ms/step - loss: 3.2726e-04\n"
     ]
    },
    {
     "data": {
      "text/plain": [
       "<tensorflow.python.keras.callbacks.History at 0x2b5274f10c8>"
      ]
     },
     "execution_count": 45,
     "metadata": {},
     "output_type": "execute_result"
    }
   ],
   "source": [
    "\n",
    "\n",
    "model.fit(x_train,y_train,batch_size =1,epochs = 1)"
   ]
  },
  {
   "cell_type": "code",
   "execution_count": null,
   "metadata": {},
   "outputs": [],
   "source": []
  },
  {
   "cell_type": "markdown",
   "metadata": {},
   "source": [
    "Take note:\n",
    "    \n",
    "Batch size simply means the total number of training samples present in a single batch\n",
    "\n",
    "while epoch is the number of iterations when an entire dataset is passed forward and backward through a \n",
    "\n",
    "neural netwrok"
   ]
  },
  {
   "cell_type": "code",
   "execution_count": 46,
   "metadata": {},
   "outputs": [],
   "source": [
    "#create the testing dataset\n",
    "#create a new array containing the scaled values from 1491 to 1551\n",
    "test_data = scaled_data[training_data_len - 60: , :]\n",
    "#lets create the dataset x_test and y_test\n",
    "x_test = []\n",
    "y_test = dataset[training_data_len:,:]\n",
    "#y_test will be all the values we want our model to predict\n",
    "for i in range (60,len(test_data)):\n",
    "    x_test.append(test_data[i-60:i,0])"
   ]
  },
  {
   "cell_type": "markdown",
   "metadata": {},
   "source": [
    "we are going to append the past 60 values to our x_test dataset"
   ]
  },
  {
   "cell_type": "markdown",
   "metadata": {},
   "source": [
    "We would love to convert the data to a numpy array anytime we want to use in the LSTM MODEL"
   ]
  },
  {
   "cell_type": "code",
   "execution_count": 47,
   "metadata": {},
   "outputs": [],
   "source": [
    "\n",
    "x_test = np.array(x_test)\n"
   ]
  },
  {
   "cell_type": "code",
   "execution_count": 48,
   "metadata": {},
   "outputs": [
    {
     "data": {
      "text/plain": [
       "(387, 60, 1)"
      ]
     },
     "execution_count": 48,
     "metadata": {},
     "output_type": "execute_result"
    }
   ],
   "source": [
    "x_test = np.reshape(x_test, (x_test.shape[0],x_test.shape[1],1))\n",
    "x_test.shape"
   ]
  },
  {
   "cell_type": "code",
   "execution_count": 49,
   "metadata": {},
   "outputs": [],
   "source": [
    "#get the models price values\n",
    "predictions = model.predict(x_test)\n",
    "predictions = scaler.inverse_transform(predictions)#here we are unscalling the values\n",
    "#now we want our predictions to contain the same value tha our y_test contains.."
   ]
  },
  {
   "cell_type": "markdown",
   "metadata": {},
   "source": [
    "#we want to evaluate our model...\n",
    "\n",
    "we can do that by getting the root mean squared error(RMSE)\n",
    "\n",
    "this tells us how accurate the model predicts the response\n",
    "\n",
    "its also the standard deviation of hte residuals\n",
    "\n",
    "take note: the lower values of RMSE indicates a better fit....."
   ]
  },
  {
   "cell_type": "code",
   "execution_count": 50,
   "metadata": {},
   "outputs": [
    {
     "data": {
      "text/plain": [
       "0.6632137939295412"
      ]
     },
     "execution_count": 50,
     "metadata": {},
     "output_type": "execute_result"
    }
   ],
   "source": [
    "rmse = np.sqrt(np.mean(predictions - y_test)**2)\n",
    "rmse "
   ]
  },
  {
   "cell_type": "markdown",
   "metadata": {},
   "source": [
    "This is good to go!!!!!"
   ]
  },
  {
   "cell_type": "code",
   "execution_count": null,
   "metadata": {},
   "outputs": [],
   "source": []
  },
  {
   "cell_type": "markdown",
   "metadata": {},
   "source": [
    "Lets plot the data!!!!"
   ]
  },
  {
   "cell_type": "code",
   "execution_count": 51,
   "metadata": {},
   "outputs": [
    {
     "name": "stderr",
     "output_type": "stream",
     "text": [
      "C:\\Users\\user\\anaconda3\\New folder\\lib\\site-packages\\ipykernel_launcher.py:4: SettingWithCopyWarning: \n",
      "A value is trying to be set on a copy of a slice from a DataFrame.\n",
      "Try using .loc[row_indexer,col_indexer] = value instead\n",
      "\n",
      "See the caveats in the documentation: https://pandas.pydata.org/pandas-docs/stable/user_guide/indexing.html#returning-a-view-versus-a-copy\n",
      "  after removing the cwd from sys.path.\n"
     ]
    },
    {
     "data": {
      "image/png": "[encoded data removed]",
      "text/plain": [
       "<Figure size 1152x576 with 1 Axes>"
      ]
     },
     "metadata": {},
     "output_type": "display_data"
    }
   ],
   "source": [
    "#plot the data\n",
    "train =data[:training_data_len]\n",
    "valid = data[training_data_len:]\n",
    "valid['predictions'] = predictions\n",
    "#visualize the data\n",
    "plt.figure(figsize=(16,8))\n",
    "plt.title('model')\n",
    "plt.xlabel('Date',fontsize = 18)\n",
    "plt.ylabel('Close price USD ($)' , fontsize = 18)\n",
    "plt.plot(train['Close'])\n",
    "plt.plot(valid[['Close', 'predictions']])\n",
    "plt.legend(['Train','Val','Predictions'],loc ='lower right')\n",
    "plt.show()"
   ]
  },
  {
   "cell_type": "markdown",
   "metadata": {},
   "source": [
    "The blue lines shows the data the model was trained on,the redish lines shows the actual stock price for apple for\n",
    "\n",
    "the rest of the days and the orangish yellow is showing the predictions what our model predicted and you can see \n",
    "\n",
    "that they are really close...This really looks like a model is pretty decent...."
   ]
  },
  {
   "cell_type": "code",
   "execution_count": null,
   "metadata": {},
   "outputs": [],
   "source": []
  },
  {
   "cell_type": "markdown",
   "metadata": {},
   "source": [
    "So we want to see what we saw on the graph in a table so we do this....."
   ]
  },
  {
   "cell_type": "code",
   "execution_count": 52,
   "metadata": {},
   "outputs": [
    {
     "data": {
      "text/html": [
       "<div>\n",
       "<style scoped>\n",
       "    .dataframe tbody tr th:only-of-type {\n",
       "        vertical-align: middle;\n",
       "    }\n",
       "\n",
       "    .dataframe tbody tr th {\n",
       "        vertical-align: top;\n",
       "    }\n",
       "\n",
       "    .dataframe thead th {\n",
       "        text-align: right;\n",
       "    }\n",
       "</style>\n",
       "<table border=\"1\" class=\"dataframe\">\n",
       "  <thead>\n",
       "    <tr style=\"text-align: right;\">\n",
       "      <th></th>\n",
       "      <th>Close</th>\n",
       "      <th>predictions</th>\n",
       "    </tr>\n",
       "    <tr>\n",
       "      <th>Date</th>\n",
       "      <th></th>\n",
       "      <th></th>\n",
       "    </tr>\n",
       "  </thead>\n",
       "  <tbody>\n",
       "    <tr>\n",
       "      <th>2019-03-04</th>\n",
       "      <td>43.962502</td>\n",
       "      <td>43.612617</td>\n",
       "    </tr>\n",
       "    <tr>\n",
       "      <th>2019-03-05</th>\n",
       "      <td>43.882500</td>\n",
       "      <td>43.721497</td>\n",
       "    </tr>\n",
       "    <tr>\n",
       "      <th>2019-03-06</th>\n",
       "      <td>43.630001</td>\n",
       "      <td>43.822800</td>\n",
       "    </tr>\n",
       "    <tr>\n",
       "      <th>2019-03-07</th>\n",
       "      <td>43.125000</td>\n",
       "      <td>43.888660</td>\n",
       "    </tr>\n",
       "    <tr>\n",
       "      <th>2019-03-08</th>\n",
       "      <td>43.227501</td>\n",
       "      <td>43.883926</td>\n",
       "    </tr>\n",
       "    <tr>\n",
       "      <th>...</th>\n",
       "      <td>...</td>\n",
       "      <td>...</td>\n",
       "    </tr>\n",
       "    <tr>\n",
       "      <th>2020-09-04</th>\n",
       "      <td>120.959999</td>\n",
       "      <td>125.660912</td>\n",
       "    </tr>\n",
       "    <tr>\n",
       "      <th>2020-09-08</th>\n",
       "      <td>112.820000</td>\n",
       "      <td>125.079140</td>\n",
       "    </tr>\n",
       "    <tr>\n",
       "      <th>2020-09-09</th>\n",
       "      <td>117.320000</td>\n",
       "      <td>123.413460</td>\n",
       "    </tr>\n",
       "    <tr>\n",
       "      <th>2020-09-10</th>\n",
       "      <td>113.489998</td>\n",
       "      <td>121.845337</td>\n",
       "    </tr>\n",
       "    <tr>\n",
       "      <th>2020-09-11</th>\n",
       "      <td>112.000000</td>\n",
       "      <td>120.049858</td>\n",
       "    </tr>\n",
       "  </tbody>\n",
       "</table>\n",
       "<p>387 rows × 2 columns</p>\n",
       "</div>"
      ],
      "text/plain": [
       "                 Close  predictions\n",
       "Date                               \n",
       "2019-03-04   43.962502    43.612617\n",
       "2019-03-05   43.882500    43.721497\n",
       "2019-03-06   43.630001    43.822800\n",
       "2019-03-07   43.125000    43.888660\n",
       "2019-03-08   43.227501    43.883926\n",
       "...                ...          ...\n",
       "2020-09-04  120.959999   125.660912\n",
       "2020-09-08  112.820000   125.079140\n",
       "2020-09-09  117.320000   123.413460\n",
       "2020-09-10  113.489998   121.845337\n",
       "2020-09-11  112.000000   120.049858\n",
       "\n",
       "[387 rows x 2 columns]"
      ]
     },
     "execution_count": 52,
     "metadata": {},
     "output_type": "execute_result"
    }
   ],
   "source": [
    "#showing the valid and predicted price\n",
    "valid"
   ]
  },
  {
   "cell_type": "markdown",
   "metadata": {},
   "source": [
    "## we want to get the stock price for 12th of september 2020,so lets first predict and then\n",
    "\n",
    "## get the actual value for\n",
    "\n",
    "## the day"
   ]
  },
  {
   "cell_type": "code",
   "execution_count": 54,
   "metadata": {},
   "outputs": [
    {
     "name": "stdout",
     "output_type": "stream",
     "text": [
      "[[118.19036]]\n"
     ]
    }
   ],
   "source": [
    "#get the stock quote\n",
    "apple_quote = web.DataReader('AAPL', data_source = 'yahoo', start = '2013-01-01', end = '2020-09-11')\n",
    "#create a new dataframe\n",
    "new_df = apple_quote.filter(['Close'])\n",
    "#get the last 60 days closing price values and covert the dataframe to an array\n",
    "last_60_days = new_df[-60:].values\n",
    "#scale the data to be values between 0 and 1\n",
    "last_60_days_scaled = scaler.transform(last_60_days)\n",
    "#create an empty list\n",
    "X_test = []\n",
    "#append the past 60 days\n",
    "X_test.append(last_60_days_scaled)\n",
    "#covert the X_test dataset to a numpy array\n",
    "X_test = np.array(X_test)\n",
    "#reshape the data\n",
    "X_test = np.reshape(X_test, (X_test.shape[0],X_test.shape[1],1))\n",
    "#Get the predicted sales price\n",
    "pred_price = model.predict(X_test)\n",
    "#undo the scaling\n",
    "pred_price = scaler.inverse_transform(pred_price)\n",
    "print(pred_price)"
   ]
  },
  {
   "cell_type": "markdown",
   "metadata": {},
   "source": [
    "this is what our model shows that this will be the predicted price for SEPTEMBER 12 2020"
   ]
  },
  {
   "cell_type": "code",
   "execution_count": 56,
   "metadata": {},
   "outputs": [
    {
     "data": {
      "text/plain": [
       "Date\n",
       "2020-09-11    112\n",
       "Name: Close, dtype: int64"
      ]
     },
     "execution_count": 56,
     "metadata": {},
     "output_type": "execute_result"
    }
   ],
   "source": [
    "#lets get the actual \n",
    "apple_quote2 = web.DataReader('AAPL', data_source = 'yahoo', start = '2020-09-11', end = '2020-09-12')\n",
    "apple_quote2['Close']"
   ]
  },
  {
   "cell_type": "code",
   "execution_count": null,
   "metadata": {},
   "outputs": [],
   "source": [
    "At leats its alittle close,"
   ]
  }
 ],
 "metadata": {
  "kernelspec": {
   "display_name": "Python 3",
   "language": "python",
   "name": "python3"
  },
  "language_info": {
   "codemirror_mode": {
    "name": "ipython",
    "version": 3
   },
   "file_extension": ".py",
   "mimetype": "text/x-python",
   "name": "python",
   "nbconvert_exporter": "python",
   "pygments_lexer": "ipython3",
   "version": "3.7.6"
  }
 },
 "nbformat": 4,
 "nbformat_minor": 4
}
